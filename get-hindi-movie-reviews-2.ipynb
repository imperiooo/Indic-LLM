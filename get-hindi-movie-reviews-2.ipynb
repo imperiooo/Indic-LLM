{
 "cells": [
  {
   "cell_type": "code",
   "execution_count": 23,
   "metadata": {},
   "outputs": [],
   "source": [
    "from urllib.request import urlopen, Request\n",
    "from bs4 import BeautifulSoup\n",
    "import re\n",
    "import pickle\n",
    "number_of_pages = 15\n",
    "all_articles = []"
   ]
  },
  {
   "cell_type": "code",
   "execution_count": 24,
   "metadata": {},
   "outputs": [
    {
     "name": "stdout",
     "output_type": "stream",
     "text": [
      "For 1 - 20\n",
      "For 1 - 40\n",
      "For 1 - 60\n",
      "For 1 - 80\n",
      "For 1 - 100\n",
      "For 1 - 120\n",
      "For 1 - 140\n",
      "For 1 - 160\n",
      "For 1 - 180\n",
      "For 1 - 200\n",
      "For 1 - 220\n",
      "For 1 - 240\n",
      "For 1 - 260\n",
      "For 1 - 280\n",
      "For 1 - 300\n"
     ]
    }
   ],
   "source": [
    "for page in range(1,number_of_pages+1):\n",
    "    url = 'https://navbharattimes.indiatimes.com/movie-masti/movie-review/articlelist/2325387.cms?curpg=' + str(page)\n",
    "    req = Request(url, headers={'User-Agent': 'Mozilla/5.0'})\n",
    "    html_doc = ''\n",
    "    with urlopen(req) as response:\n",
    "        for line in response:\n",
    "            line = line.decode('utf-8')\n",
    "            html_doc = html_doc + line.replace('\\n','')\n",
    "    soup = BeautifulSoup(html_doc, 'html.parser')\n",
    "    h2s = soup.find_all('h2',{'class':'moviename'})\n",
    "    for h in h2s:\n",
    "        all_articles.append(h.a['href'])\n",
    "    print('For 1 - ' + str(len(all_articles)))\n",
    "articleRatingMapping = {}"
   ]
  },
  {
   "cell_type": "code",
   "execution_count": 81,
   "metadata": {},
   "outputs": [
    {
     "name": "stdout",
     "output_type": "stream",
     "text": [
      "Saved 285with rating2.5 /  5\n",
      "Saved 286with rating4 /  5\n",
      "Saved 287with rating3.5 /  5\n",
      "Saved 288with rating3 /  5\n",
      "Saved 289with rating3 /  5\n",
      "Saved 290with rating3.5 /  5\n",
      "Saved 291with rating3 /  5\n",
      "Saved 292with rating3.5 /  5\n",
      "Saved 293with rating2.5 /  5\n",
      "Saved 294with rating2 /  5\n",
      "Saved 295with rating1 /  5\n",
      "Saved 296with rating2 /  5\n",
      "Saved 297with rating2 /  5\n",
      "Saved 298with rating3 /  5\n",
      "Saved 299with rating3 /  5\n"
     ]
    }
   ],
   "source": [
    "for c, url in enumerate(all_articles[285:]):\n",
    "    c = c + 285\n",
    "    req = Request(url, headers={'User-Agent': 'Mozilla/5.0'})\n",
    "    html_doc = ''\n",
    "    with urlopen(req) as response:\n",
    "        for line in response:\n",
    "            line = line.decode('utf-8')\n",
    "            html_doc = html_doc + line.replace('\\n','')\n",
    "    soup = BeautifulSoup(html_doc, 'html.parser')\n",
    "    for div in soup.find_all(\"div\", {'class':'imagecaption'}): \n",
    "        div.decompose()\n",
    "    div = soup.find('div',{'class':'Normal'})\n",
    "    article = div.text\n",
    "    article = article.replace('X','')\n",
    "    article = article.strip(u'\\u200b')\n",
    "    article = re.sub(r'^https?:\\/\\/.*[\\r\\n]*', '', article)\n",
    "    article = article.replace(u'\\ufeff','')\n",
    "    article = article.replace(u'\\xa0', u' ')\n",
    "    article = article.replace('  ', ' ')\n",
    "    article = article.replace(' , ', ', ')\n",
    "    rdiv = soup.find('div', {'id':'selfrating'})\n",
    "    rating = '---'\n",
    "    if rdiv:\n",
    "        rating = rdiv.find('span',{'class':'numrating'}).text\n",
    "    articleRatingMapping[c] = {\n",
    "        'url': url,\n",
    "        'article': article,\n",
    "        'rating': rating\n",
    "    }\n",
    "    print('Saved ' + str(c) + 'with rating' + str(rating))"
   ]
  },
  {
   "cell_type": "code",
   "execution_count": 52,
   "metadata": {},
   "outputs": [
    {
     "data": {
      "text/plain": [
       "'3.5 /  5'"
      ]
     },
     "execution_count": 52,
     "metadata": {},
     "output_type": "execute_result"
    }
   ],
   "source": [
    "rdiv = soup.find('div', {'id':'selfrating'})\n",
    "rating = rdiv.find('span',{'class':'numrating'}).text\n",
    "rating"
   ]
  },
  {
   "cell_type": "code",
   "execution_count": 38,
   "metadata": {},
   "outputs": [],
   "source": [
    "s = \"इस फिल्म के शो स्टॉपर साफ तौर पर अनिल कपूर हैं, जिन्होंने अपने बेहतरीन अदाकारी का परिचय दिया है और जिसके लिए आपको 'फन्ने खां' एक बार जरूर देखनी चाहिए। X \""
   ]
  },
  {
   "cell_type": "code",
   "execution_count": 63,
   "metadata": {},
   "outputs": [],
   "source": [
    "all_articles[82]=\"https://navbharattimes.indiatimes.com/movie-masti/movie-review/DARKEST-HOUR-MOVIE-REVIEW-%20in-hindi/moviereview/62565228.cms\""
   ]
  },
  {
   "cell_type": "code",
   "execution_count": 78,
   "metadata": {},
   "outputs": [],
   "source": [
    "temp = articleRatingMapping"
   ]
  },
  {
   "cell_type": "code",
   "execution_count": 82,
   "metadata": {},
   "outputs": [
    {
     "data": {
      "text/plain": [
       "300"
      ]
     },
     "execution_count": 82,
     "metadata": {},
     "output_type": "execute_result"
    }
   ],
   "source": [
    "len(articleRatingMapping)"
   ]
  },
  {
   "cell_type": "code",
   "execution_count": 84,
   "metadata": {},
   "outputs": [],
   "source": [
    "import pickle\n",
    "with open('HindiArticleRatingMapping','wb') as f:\n",
    "    pickle.dump(articleRatingMapping,f)"
   ]
  },
  {
   "cell_type": "code",
   "execution_count": null,
   "metadata": {},
   "outputs": [],
   "source": []
  }
 ],
 "metadata": {
  "kernelspec": {
   "display_name": "Python 3",
   "language": "python",
   "name": "python3"
  },
  "language_info": {
   "codemirror_mode": {
    "name": "ipython",
    "version": 3
   },
   "file_extension": ".py",
   "mimetype": "text/x-python",
   "name": "python",
   "nbconvert_exporter": "python",
   "pygments_lexer": "ipython3",
   "version": "3.6.7"
  }
 },
 "nbformat": 4,
 "nbformat_minor": 2
}
